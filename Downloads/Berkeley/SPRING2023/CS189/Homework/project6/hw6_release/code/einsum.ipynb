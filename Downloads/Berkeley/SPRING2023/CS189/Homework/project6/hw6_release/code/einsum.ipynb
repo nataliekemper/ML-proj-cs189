{
 "cells": [
  {
   "cell_type": "code",
   "execution_count": 1,
   "id": "faee418d",
   "metadata": {},
   "outputs": [],
   "source": [
    "import random\n",
    "import numpy as np\n",
    "from numpy import linalg as la"
   ]
  },
  {
   "cell_type": "markdown",
   "id": "50a6a47e",
   "metadata": {},
   "source": [
    "# 6.1 The Einsum Function"
   ]
  },
  {
   "cell_type": "markdown",
   "id": "d5610248",
   "metadata": {},
   "source": [
    "## 1: Trace"
   ]
  },
  {
   "cell_type": "code",
   "execution_count": 2,
   "id": "a5b7852f",
   "metadata": {},
   "outputs": [],
   "source": [
    "A = np.random.rand(5,5)"
   ]
  },
  {
   "cell_type": "code",
   "execution_count": 3,
   "id": "4228b029",
   "metadata": {},
   "outputs": [],
   "source": [
    "pred = np.einsum(\"ii\", A)"
   ]
  },
  {
   "cell_type": "code",
   "execution_count": 4,
   "id": "2ca933b7",
   "metadata": {},
   "outputs": [],
   "source": [
    "actual = np.trace(A)"
   ]
  },
  {
   "cell_type": "code",
   "execution_count": 5,
   "id": "a8c7faeb",
   "metadata": {},
   "outputs": [
    {
     "data": {
      "text/plain": [
       "0.0"
      ]
     },
     "execution_count": 5,
     "metadata": {},
     "output_type": "execute_result"
    }
   ],
   "source": [
    "la.norm(actual - pred)"
   ]
  },
  {
   "cell_type": "markdown",
   "id": "c451676a",
   "metadata": {},
   "source": [
    "## 2: Matrix Multiplication"
   ]
  },
  {
   "cell_type": "code",
   "execution_count": 6,
   "id": "0dc83c6b",
   "metadata": {},
   "outputs": [],
   "source": [
    "b = np.random.rand(5)"
   ]
  },
  {
   "cell_type": "code",
   "execution_count": 7,
   "id": "618270ab",
   "metadata": {},
   "outputs": [],
   "source": [
    "pred = np.einsum(\"ij,j\", A, b)"
   ]
  },
  {
   "cell_type": "code",
   "execution_count": 8,
   "id": "391f8e99",
   "metadata": {},
   "outputs": [],
   "source": [
    "actual = np.matmul(A, b)"
   ]
  },
  {
   "cell_type": "code",
   "execution_count": 9,
   "id": "100ca07f",
   "metadata": {},
   "outputs": [
    {
     "data": {
      "text/plain": [
       "0.0"
      ]
     },
     "execution_count": 9,
     "metadata": {},
     "output_type": "execute_result"
    }
   ],
   "source": [
    "la.norm(actual - pred)"
   ]
  },
  {
   "cell_type": "markdown",
   "id": "c5ab9742",
   "metadata": {},
   "source": [
    "## 3: Vector Outer Product"
   ]
  },
  {
   "cell_type": "code",
   "execution_count": 10,
   "id": "87a71b83",
   "metadata": {},
   "outputs": [],
   "source": [
    "a = np.random.rand(5,)\n",
    "b = np.random.rand(5,)"
   ]
  },
  {
   "cell_type": "code",
   "execution_count": 11,
   "id": "36901e9f",
   "metadata": {},
   "outputs": [],
   "source": [
    "pred = np.einsum(\"i,j->ij\", a, b)"
   ]
  },
  {
   "cell_type": "code",
   "execution_count": 12,
   "id": "7b09b466",
   "metadata": {},
   "outputs": [],
   "source": [
    "actual = np.outer(a, b)"
   ]
  },
  {
   "cell_type": "code",
   "execution_count": 13,
   "id": "0b3ad742",
   "metadata": {},
   "outputs": [
    {
     "data": {
      "text/plain": [
       "0.0"
      ]
     },
     "execution_count": 13,
     "metadata": {},
     "output_type": "execute_result"
    }
   ],
   "source": [
    "la.norm(actual - pred)"
   ]
  },
  {
   "cell_type": "code",
   "execution_count": null,
   "id": "0bc8f24c",
   "metadata": {},
   "outputs": [],
   "source": []
  },
  {
   "cell_type": "code",
   "execution_count": null,
   "id": "e11333f1",
   "metadata": {},
   "outputs": [],
   "source": []
  },
  {
   "cell_type": "code",
   "execution_count": null,
   "id": "006d9f7a",
   "metadata": {},
   "outputs": [],
   "source": []
  },
  {
   "cell_type": "code",
   "execution_count": 14,
   "id": "67beb6c7",
   "metadata": {},
   "outputs": [],
   "source": [
    "Z1 = [[0.14, 0.07, 0.01], [0.03, 0.11, 0.03], [0.03, 0.11, 0.03], [0.03, 0.04, 0.12]]\n",
    "Z2 = [[0.01, 0.01, 0.01], [0.01, 0.01, 0.01], [0.01, 0.01, 0.01], [0.04, 0.04, 0.08]]"
   ]
  },
  {
   "cell_type": "code",
   "execution_count": 17,
   "id": "fa1e6772",
   "metadata": {},
   "outputs": [],
   "source": [
    "XY = np.add(Z1, Z2)"
   ]
  },
  {
   "cell_type": "code",
   "execution_count": 18,
   "id": "a4b18a47",
   "metadata": {},
   "outputs": [
    {
     "data": {
      "text/plain": [
       "array([[0.15, 0.08, 0.02],\n",
       "       [0.04, 0.12, 0.04],\n",
       "       [0.04, 0.12, 0.04],\n",
       "       [0.07, 0.08, 0.2 ]])"
      ]
     },
     "execution_count": 18,
     "metadata": {},
     "output_type": "execute_result"
    }
   ],
   "source": [
    "XY"
   ]
  },
  {
   "cell_type": "code",
   "execution_count": 27,
   "id": "ac3e47a4",
   "metadata": {},
   "outputs": [
    {
     "data": {
      "text/plain": [
       "array([[0.22, 0.03],\n",
       "       [0.17, 0.03],\n",
       "       [0.17, 0.03],\n",
       "       [0.19, 0.16]])"
      ]
     },
     "execution_count": 27,
     "metadata": {},
     "output_type": "execute_result"
    }
   ],
   "source": [
    "first = np.sum(Z1, axis = 1).reshape((-1, 1))\n",
    "second = np.sum(Z2, axis = 1).reshape((-1, 1))\n",
    "\n",
    "XZ = np.concatenate((first, second), axis = 1)\n",
    "XZ"
   ]
  },
  {
   "cell_type": "code",
   "execution_count": null,
   "id": "570c6b61",
   "metadata": {},
   "outputs": [],
   "source": []
  }
 ],
 "metadata": {
  "kernelspec": {
   "display_name": "Python 3.9.12 ('base')",
   "language": "python",
   "name": "python3"
  },
  "language_info": {
   "codemirror_mode": {
    "name": "ipython",
    "version": 3
   },
   "file_extension": ".py",
   "mimetype": "text/x-python",
   "name": "python",
   "nbconvert_exporter": "python",
   "pygments_lexer": "ipython3",
   "version": "3.9.12"
  },
  "vscode": {
   "interpreter": {
    "hash": "bff6f46bedc2386ba08f355cfae493a52c2d55a8c23151d231f3a290e75f2bcd"
   }
  }
 },
 "nbformat": 4,
 "nbformat_minor": 5
}
