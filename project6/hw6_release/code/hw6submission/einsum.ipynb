{
 "cells": [
  {
   "cell_type": "code",
   "execution_count": 1,
   "id": "faee418d",
   "metadata": {},
   "outputs": [],
   "source": [
    "import random\n",
    "import numpy as np\n",
    "from numpy import linalg as la"
   ]
  },
  {
   "cell_type": "markdown",
   "id": "50a6a47e",
   "metadata": {},
   "source": [
    "# 6.1 The Einsum Function"
   ]
  },
  {
   "cell_type": "markdown",
   "id": "d5610248",
   "metadata": {},
   "source": [
    "## 1: Trace"
   ]
  },
  {
   "cell_type": "code",
   "execution_count": 2,
   "id": "a5b7852f",
   "metadata": {},
   "outputs": [],
   "source": [
    "A = np.random.rand(5,5)"
   ]
  },
  {
   "cell_type": "code",
   "execution_count": 3,
   "id": "4228b029",
   "metadata": {},
   "outputs": [],
   "source": [
    "pred = np.einsum(\"ii\", A)"
   ]
  },
  {
   "cell_type": "code",
   "execution_count": 4,
   "id": "2ca933b7",
   "metadata": {},
   "outputs": [],
   "source": [
    "actual = np.trace(A)"
   ]
  },
  {
   "cell_type": "code",
   "execution_count": 5,
   "id": "a8c7faeb",
   "metadata": {},
   "outputs": [
    {
     "data": {
      "text/plain": [
       "0.0"
      ]
     },
     "execution_count": 5,
     "metadata": {},
     "output_type": "execute_result"
    }
   ],
   "source": [
    "la.norm(actual - pred)"
   ]
  },
  {
   "cell_type": "markdown",
   "id": "c451676a",
   "metadata": {},
   "source": [
    "## 2: Matrix Multiplication"
   ]
  },
  {
   "cell_type": "code",
   "execution_count": 6,
   "id": "0dc83c6b",
   "metadata": {},
   "outputs": [],
   "source": [
    "b = np.random.rand(5)"
   ]
  },
  {
   "cell_type": "code",
   "execution_count": 7,
   "id": "618270ab",
   "metadata": {},
   "outputs": [],
   "source": [
    "pred = np.einsum(\"ij,j\", A, b)"
   ]
  },
  {
   "cell_type": "code",
   "execution_count": 8,
   "id": "391f8e99",
   "metadata": {},
   "outputs": [],
   "source": [
    "actual = np.matmul(A, b)"
   ]
  },
  {
   "cell_type": "code",
   "execution_count": 9,
   "id": "100ca07f",
   "metadata": {},
   "outputs": [
    {
     "data": {
      "text/plain": [
       "0.0"
      ]
     },
     "execution_count": 9,
     "metadata": {},
     "output_type": "execute_result"
    }
   ],
   "source": [
    "la.norm(actual - pred)"
   ]
  },
  {
   "cell_type": "markdown",
   "id": "c5ab9742",
   "metadata": {},
   "source": [
    "## 3: Vector Outer Product"
   ]
  },
  {
   "cell_type": "code",
   "execution_count": 10,
   "id": "87a71b83",
   "metadata": {},
   "outputs": [],
   "source": [
    "a = np.random.rand(5,)\n",
    "b = np.random.rand(5,)"
   ]
  },
  {
   "cell_type": "code",
   "execution_count": 11,
   "id": "36901e9f",
   "metadata": {},
   "outputs": [],
   "source": [
    "pred = np.einsum(\"i,j->ij\", a, b)"
   ]
  },
  {
   "cell_type": "code",
   "execution_count": 12,
   "id": "7b09b466",
   "metadata": {},
   "outputs": [],
   "source": [
    "actual = np.outer(a, b)"
   ]
  },
  {
   "cell_type": "code",
   "execution_count": 13,
   "id": "0b3ad742",
   "metadata": {},
   "outputs": [
    {
     "data": {
      "text/plain": [
       "0.0"
      ]
     },
     "execution_count": 13,
     "metadata": {},
     "output_type": "execute_result"
    }
   ],
   "source": [
    "la.norm(actual - pred)"
   ]
  },
  {
   "cell_type": "code",
   "execution_count": null,
   "id": "0bc8f24c",
   "metadata": {},
   "outputs": [],
   "source": []
  },
  {
   "cell_type": "code",
   "execution_count": null,
   "id": "e11333f1",
   "metadata": {},
   "outputs": [],
   "source": []
  },
  {
   "cell_type": "code",
   "execution_count": null,
   "id": "006d9f7a",
   "metadata": {},
   "outputs": [],
   "source": []
  },
  {
   "cell_type": "code",
   "execution_count": 14,
   "id": "67beb6c7",
   "metadata": {},
   "outputs": [],
   "source": [
    "Z1 = [[0.14, 0.07, 0.01], [0.03, 0.11, 0.03], [0.03, 0.11, 0.03], [0.03, 0.04, 0.12]]\n",
    "Z2 = [[0.01, 0.01, 0.01], [0.01, 0.01, 0.01], [0.01, 0.01, 0.01], [0.04, 0.04, 0.08]]"
   ]
  },
  {
   "cell_type": "code",
   "execution_count": 15,
   "id": "fa1e6772",
   "metadata": {},
   "outputs": [],
   "source": [
    "XY = np.add(Z1, Z2)"
   ]
  },
  {
   "cell_type": "code",
   "execution_count": 16,
   "id": "a4b18a47",
   "metadata": {},
   "outputs": [
    {
     "data": {
      "text/plain": [
       "array([[0.15, 0.08, 0.02],\n",
       "       [0.04, 0.12, 0.04],\n",
       "       [0.04, 0.12, 0.04],\n",
       "       [0.07, 0.08, 0.2 ]])"
      ]
     },
     "execution_count": 16,
     "metadata": {},
     "output_type": "execute_result"
    }
   ],
   "source": [
    "XY"
   ]
  },
  {
   "cell_type": "code",
   "execution_count": 35,
   "id": "ac3e47a4",
   "metadata": {},
   "outputs": [
    {
     "data": {
      "text/plain": [
       "array([[0.22, 0.03],\n",
       "       [0.17, 0.03],\n",
       "       [0.17, 0.03],\n",
       "       [0.19, 0.16]])"
      ]
     },
     "execution_count": 35,
     "metadata": {},
     "output_type": "execute_result"
    }
   ],
   "source": [
    "first = np.sum(Z1, axis = 1).reshape((-1, 1))\n",
    "second = np.sum(Z2, axis = 1).reshape((-1, 1))\n",
    "\n",
    "XZ = np.concatenate((first, second), axis = 1)\n",
    "XZ"
   ]
  },
  {
   "cell_type": "code",
   "execution_count": 34,
   "id": "570c6b61",
   "metadata": {},
   "outputs": [
    {
     "data": {
      "text/plain": [
       "array([[0.07, 0.07, 0.11],\n",
       "       [0.23, 0.33, 0.19]])"
      ]
     },
     "execution_count": 34,
     "metadata": {},
     "output_type": "execute_result"
    }
   ],
   "source": [
    "first = np.sum(Z1, axis = 0)\n",
    "second = np.sum(Z2, axis = 0)\n",
    "\n",
    "YZ = np.stack((second, first))\n",
    "YZ"
   ]
  },
  {
   "cell_type": "code",
   "execution_count": 36,
   "id": "371f6f37",
   "metadata": {},
   "outputs": [
    {
     "data": {
      "text/plain": [
       "array([0.25, 0.2 , 0.2 , 0.35])"
      ]
     },
     "execution_count": 36,
     "metadata": {},
     "output_type": "execute_result"
    }
   ],
   "source": [
    "PX = np.sum(XZ, axis = 1)\n",
    "PX"
   ]
  },
  {
   "cell_type": "code",
   "execution_count": 41,
   "id": "de56510f",
   "metadata": {},
   "outputs": [
    {
     "data": {
      "text/plain": [
       "array([0.3, 0.4, 0.3])"
      ]
     },
     "execution_count": 41,
     "metadata": {},
     "output_type": "execute_result"
    }
   ],
   "source": [
    "PY = np.sum(YZ, axis = 0)\n",
    "PY"
   ]
  },
  {
   "cell_type": "code",
   "execution_count": 40,
   "id": "62ed8130",
   "metadata": {},
   "outputs": [
    {
     "data": {
      "text/plain": [
       "array([0.25, 0.75])"
      ]
     },
     "execution_count": 40,
     "metadata": {},
     "output_type": "execute_result"
    }
   ],
   "source": [
    "PZ = np.sum(YZ, axis = 1)\n",
    "PZ"
   ]
  },
  {
   "cell_type": "code",
   "execution_count": 42,
   "id": "54fe6e08",
   "metadata": {},
   "outputs": [],
   "source": [
    "xVal = [-4, 2, 4, 8]\n",
    "yVal = [0, 3, 6]"
   ]
  },
  {
   "cell_type": "code",
   "execution_count": 43,
   "id": "ea3a78ef",
   "metadata": {},
   "outputs": [
    {
     "data": {
      "text/plain": [
       "array([[0.15, 0.08, 0.02],\n",
       "       [0.04, 0.12, 0.04],\n",
       "       [0.04, 0.12, 0.04],\n",
       "       [0.07, 0.08, 0.2 ]])"
      ]
     },
     "execution_count": 43,
     "metadata": {},
     "output_type": "execute_result"
    }
   ],
   "source": [
    "XY"
   ]
  },
  {
   "cell_type": "code",
   "execution_count": 47,
   "id": "6546b5dd",
   "metadata": {},
   "outputs": [
    {
     "data": {
      "text/plain": [
       "13.680000000000001"
      ]
     },
     "execution_count": 47,
     "metadata": {},
     "output_type": "execute_result"
    }
   ],
   "source": [
    "sum = 0\n",
    "for i in np.arange(4):\n",
    "    for j in np.arange(3):\n",
    "        sum += xVal[i]*yVal[j]*XY[i][j]\n",
    "        \n",
    "sum"
   ]
  },
  {
   "cell_type": "code",
   "execution_count": 48,
   "id": "0b1809e7",
   "metadata": {},
   "outputs": [
    {
     "data": {
      "text/plain": [
       "4.02"
      ]
     },
     "execution_count": 48,
     "metadata": {},
     "output_type": "execute_result"
    }
   ],
   "source": [
    "sum = 0\n",
    "for i in np.arange(4):\n",
    "    for j in np.arange(2):\n",
    "        sum += xVal[i]*yVal[j]*XZ[i][j]\n",
    "        \n",
    "sum"
   ]
  },
  {
   "cell_type": "code",
   "execution_count": 49,
   "id": "d5415d74",
   "metadata": {},
   "outputs": [
    {
     "data": {
      "text/plain": [
       "0.7799999999999996"
      ]
     },
     "execution_count": 49,
     "metadata": {},
     "output_type": "execute_result"
    }
   ],
   "source": [
    "sum = 0\n",
    "for i in np.arange(2):\n",
    "    for j in np.arange(3):\n",
    "        sum += xVal[i]*yVal[j]*YZ[i][j]\n",
    "        \n",
    "sum"
   ]
  },
  {
   "cell_type": "code",
   "execution_count": 50,
   "id": "fe7b4802",
   "metadata": {},
   "outputs": [
    {
     "data": {
      "text/plain": [
       "[[0.14, 0.07, 0.01],\n",
       " [0.03, 0.11, 0.03],\n",
       " [0.03, 0.11, 0.03],\n",
       " [0.03, 0.04, 0.12]]"
      ]
     },
     "execution_count": 50,
     "metadata": {},
     "output_type": "execute_result"
    }
   ],
   "source": [
    "Z1"
   ]
  },
  {
   "cell_type": "code",
   "execution_count": 51,
   "id": "c9fa4034",
   "metadata": {},
   "outputs": [
    {
     "data": {
      "text/plain": [
       "[[0.01, 0.01, 0.01],\n",
       " [0.01, 0.01, 0.01],\n",
       " [0.01, 0.01, 0.01],\n",
       " [0.04, 0.04, 0.08]]"
      ]
     },
     "execution_count": 51,
     "metadata": {},
     "output_type": "execute_result"
    }
   ],
   "source": [
    "Z2"
   ]
  },
  {
   "cell_type": "code",
   "execution_count": 56,
   "id": "4a126a8d",
   "metadata": {},
   "outputs": [
    {
     "data": {
      "text/plain": [
       "13824"
      ]
     },
     "execution_count": 56,
     "metadata": {},
     "output_type": "execute_result"
    }
   ],
   "source": [
    "jj = [1, 2, 3, 4, 1, 2, 3, 4, 1, 2, 3, 4, 1, 2, 3, 4, 1, 2, 3, 4, 1, 2, 3, 4]\n",
    "kk = [1, 1, 1, 1, 2, 2, 2, 2, 3, 3, 3, 3, 1, 1, 1, 1, 2, 2, 2, 2, 3, 3, 3, 3]\n",
    "ll = [1, 1, 1, 1, 1, 1, 1, 1, 1, 1, 1, 1, 2, 2, 2, 2, 2, 2, 2, 2, 2, 2, 2, 2]\n",
    "outcomes = []\n",
    "\n",
    "for l in ll:\n",
    "    for k in kk:\n",
    "        for j in jj:\n",
    "            if l == 1:\n",
    "                prob = Z1[j-1][k-1]\n",
    "                outcomes.append(prob)\n",
    "            if l == 2:\n",
    "                prob = Z2[j-1][k-1]\n",
    "                outcomes.append(prob)\n",
    "len(outcomes)"
   ]
  },
  {
   "cell_type": "code",
   "execution_count": null,
   "id": "63c35ca2",
   "metadata": {},
   "outputs": [],
   "source": [
    "F0 = 0\n",
    "FV = [F0]\n",
    "for i in np.range(1, 24):\n",
    "    FV[i] = FV[i-1] + "
   ]
  },
  {
   "cell_type": "code",
   "execution_count": 57,
   "id": "137b5d69",
   "metadata": {},
   "outputs": [
    {
     "data": {
      "text/plain": [
       "array([0, 0, 0, 0, 0, 1, 2, 3, 4, 0, 0, 0, 0, 0, 0])"
      ]
     },
     "execution_count": 57,
     "metadata": {},
     "output_type": "execute_result"
    }
   ],
   "source": [
    "a = [1, 2, 3, 4]\n",
    "np.pad(a, (5, 6), )"
   ]
  },
  {
   "cell_type": "code",
   "execution_count": null,
   "id": "49626870",
   "metadata": {},
   "outputs": [],
   "source": []
  }
 ],
 "metadata": {
  "kernelspec": {
   "display_name": "Python 3 (ipykernel)",
   "language": "python",
   "name": "python3"
  },
  "language_info": {
   "codemirror_mode": {
    "name": "ipython",
    "version": 3
   },
   "file_extension": ".py",
   "mimetype": "text/x-python",
   "name": "python",
   "nbconvert_exporter": "python",
   "pygments_lexer": "ipython3",
   "version": "3.9.12"
  }
 },
 "nbformat": 4,
 "nbformat_minor": 5
}
